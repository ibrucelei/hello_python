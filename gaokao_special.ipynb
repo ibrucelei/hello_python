{
 "cells": [
  {
   "cell_type": "markdown",
   "metadata": {},
   "source": [
    "# 获取高考专业列表\n",
    "\n",
    "## 获取分页"
   ]
  },
  {
   "cell_type": "code",
   "execution_count": 19,
   "metadata": {},
   "outputs": [],
   "source": [
    "import requests\n",
    "import json\n",
    "import pandas as pd\n",
    "url='https://gkcx.eol.cn/gkcx/api'\n",
    "headers = {'user-agent': 'my-app/0.0.1'}\n",
    "def getSpecial(pagesize,page):\n",
    "    data={'uri':'hxsjkqt/api/gk/special/lists','size':pagesize,'page':page,'keyword':'','level1':'','level2':''}\n",
    "    result_str=requests.post(url,data=data,headers=headers).text\n",
    "    result_json=json.loads(result_str)\n",
    "    return result_json['data']['item']\n",
    "#print(result_json['data']['item'][0])\n",
    "#print(type(result_json['data']['item']))\n",
    "#print(len(result_json['data']['item']))\n",
    "#print('共有数据'+str(result_json['data']['numFound'])+'条。')"
   ]
  },
  {
   "cell_type": "markdown",
   "metadata": {},
   "source": [
    "## 汇总分页"
   ]
  },
  {
   "cell_type": "code",
   "execution_count": 25,
   "metadata": {},
   "outputs": [
    {
     "name": "stdout",
     "output_type": "stream",
     "text": [
      "1313\n"
     ]
    }
   ],
   "source": [
    "numFound=result_json['data']['numFound']\n",
    "cycle=numFound//20+1\n",
    "total=[]\n",
    "for i in range(cycle):\n",
    "    temp=getSpecial(20,i+1)\n",
    "    #print(len(temp))\n",
    "    total.extend(temp)\n",
    "print(len(total))"
   ]
  },
  {
   "cell_type": "markdown",
   "metadata": {},
   "source": [
    "## 汇总列表生成文件"
   ]
  },
  {
   "cell_type": "code",
   "execution_count": 29,
   "metadata": {},
   "outputs": [],
   "source": [
    "df=pd.DataFrame(total)\n",
    "df.to_csv('./gaokao_special.csv',mode='w')"
   ]
  }
 ],
 "metadata": {
  "kernelspec": {
   "display_name": "Python 3",
   "language": "python",
   "name": "python3"
  },
  "language_info": {
   "codemirror_mode": {
    "name": "ipython",
    "version": 3
   },
   "file_extension": ".py",
   "mimetype": "text/x-python",
   "name": "python",
   "nbconvert_exporter": "python",
   "pygments_lexer": "ipython3",
   "version": "3.6.8"
  }
 },
 "nbformat": 4,
 "nbformat_minor": 2
}
